{
 "cells": [
  {
   "cell_type": "code",
   "execution_count": 1,
   "id": "2cc2da2e",
   "metadata": {},
   "outputs": [],
   "source": [
    "from fsub_extractor.utils.fury_viz import define_streamline_actor,define_slice_actor,define_roi_actor,visualize_bundles\n",
    "import pandas as pd \n",
    "import os.path as op\n",
    "import os\n",
    "from fury import actor, window, colormap as cmap"
   ]
  },
  {
   "cell_type": "code",
   "execution_count": 2,
   "id": "8020d2d6",
   "metadata": {},
   "outputs": [],
   "source": [
    "subs = pd.read_csv('/oak/stanford/groups/kalanit/biac2/kgs/projects/emily/smooth_tiling/sherlock/SUBJECTS.txt')\n",
    "subs = subs.subj\n",
    "\n",
    "ages = pd.read_csv('/oak/stanford/groups/kalanit/biac2/kgs/projects/emily/smooth_tiling/sherlock/AGES.txt')\n",
    "ages = ages.sess"
   ]
  },
  {
   "cell_type": "code",
   "execution_count": 4,
   "id": "0035969b",
   "metadata": {},
   "outputs": [
    {
     "name": "stderr",
     "output_type": "stream",
     "text": [
      "/localhome/ekubota/anaconda3/envs/extractor_clean/lib/python3.10/site-packages/numpy/core/fromnumeric.py:2009: VisibleDeprecationWarning: Creating an ndarray from ragged nested sequences (which is a list-or-tuple of lists-or-tuples-or ndarrays with different lengths or shapes) is deprecated. If you meant to do this, you must specify 'dtype=object' when creating the ndarray.\n",
      "  result = asarray(a).shape\n"
     ]
    }
   ],
   "source": [
    "dmridir = '/oak/stanford/groups/kalanit/biac2/kgs/projects/babybrains/mri'\n",
    "extractordir = '/oak/stanford/groups/kalanit/biac2/kgs/projects/emily/smooth_tiling/extractor_outputs';\n",
    "figure_dir = '/oak/stanford/groups/kalanit/biac2/kgs/projects/emily/smooth_tiling/figures/streamline_figs/mpm'\n",
    "bundles = ['wholebrain']\n",
    "colors = [[1,.5,.5],[1,0,0],[1,1,0],[0,1,0]]\n",
    "rois = ['mFus','pFus','OTS','PPA']\n",
    "hem = 'rh'\n",
    "\n",
    "for s in range(40,len(subs)):\n",
    "    fsid = subs[s]+'_'+ages[s]+'_mask'\n",
    "    sessid = subs[s]+'/'+ages[s]\n",
    "    for i in range(len(rois)):\n",
    "        roi_path = op.join(extractordir,fsid,'func',hem+'_MPM_'+rois[i]+'_wholebrain_'+hem+'_',rois[i]+'_adult_20thresh_contour.projected_gmwmi_intersected.nii.gz')\n",
    "        roi_actor=define_roi_actor(roi_path,[1,1,1],1)\n",
    "        ref_anat = op.join(dmridir,sessid,'dwi','IFOD2_5mil','t1','t2_acpc_conformed.nii.gz')\n",
    "        streamline_actors = [None]*len(bundles)\n",
    "        roi_actors = [None]*len(bundles)\n",
    "        for b in range(len(bundles)):\n",
    "            tck = op.join(extractordir,fsid,'dwi',hem+'_MPM_'+rois[i]+'_'+bundles[b]+'_extracted.tck')\n",
    "            streamline_actors[b] = define_streamline_actor(tck,ref_anat,colors[i])\n",
    "\n",
    "        slice_actor = [None]*1\n",
    "        slice_actor[0] = define_slice_actor(ref_anat,view='saggital',offset=-.08)\n",
    "        fname = op.join(figure_dir,hem,rois[i],fsid+'.png')\n",
    "        visualize_bundles(streamline_actors,0,slice_actor,[roi_actor],camera_angle='saggital',hemi = 'rh',filename=fname)"
   ]
  },
  {
   "cell_type": "code",
   "execution_count": 2,
   "id": "a4a6d2b0",
   "metadata": {},
   "outputs": [
    {
     "ename": "NameError",
     "evalue": "name 'subs' is not defined",
     "output_type": "error",
     "traceback": [
      "\u001b[0;31m---------------------------------------------------------------------------\u001b[0m",
      "\u001b[0;31mNameError\u001b[0m                                 Traceback (most recent call last)",
      "Input \u001b[0;32mIn [2]\u001b[0m, in \u001b[0;36m<cell line: 10>\u001b[0;34m()\u001b[0m\n\u001b[1;32m      7\u001b[0m rois \u001b[38;5;241m=\u001b[39m [\u001b[38;5;124m'\u001b[39m\u001b[38;5;124mmFus\u001b[39m\u001b[38;5;124m'\u001b[39m,\u001b[38;5;124m'\u001b[39m\u001b[38;5;124mpFus\u001b[39m\u001b[38;5;124m'\u001b[39m,\u001b[38;5;124m'\u001b[39m\u001b[38;5;124mmOTS\u001b[39m\u001b[38;5;124m'\u001b[39m,\u001b[38;5;124m'\u001b[39m\u001b[38;5;124mpOTS\u001b[39m\u001b[38;5;124m'\u001b[39m,\u001b[38;5;124m'\u001b[39m\u001b[38;5;124mOTS\u001b[39m\u001b[38;5;124m'\u001b[39m,\u001b[38;5;124m'\u001b[39m\u001b[38;5;124mPPA\u001b[39m\u001b[38;5;124m'\u001b[39m]\n\u001b[1;32m      8\u001b[0m hem \u001b[38;5;241m=\u001b[39m \u001b[38;5;124m'\u001b[39m\u001b[38;5;124mlh\u001b[39m\u001b[38;5;124m'\u001b[39m\n\u001b[0;32m---> 10\u001b[0m \u001b[38;5;28;01mfor\u001b[39;00m s \u001b[38;5;129;01min\u001b[39;00m \u001b[38;5;28mrange\u001b[39m(\u001b[38;5;241m40\u001b[39m,\u001b[38;5;28mlen\u001b[39m(\u001b[43msubs\u001b[49m)):\n\u001b[1;32m     11\u001b[0m     fsid \u001b[38;5;241m=\u001b[39m subs[s]\u001b[38;5;241m+\u001b[39m\u001b[38;5;124m'\u001b[39m\u001b[38;5;124m_\u001b[39m\u001b[38;5;124m'\u001b[39m\u001b[38;5;241m+\u001b[39mages[s]\u001b[38;5;241m+\u001b[39m\u001b[38;5;124m'\u001b[39m\u001b[38;5;124m_mask\u001b[39m\u001b[38;5;124m'\u001b[39m\n\u001b[1;32m     12\u001b[0m     sessid \u001b[38;5;241m=\u001b[39m subs[s]\u001b[38;5;241m+\u001b[39m\u001b[38;5;124m'\u001b[39m\u001b[38;5;124m/\u001b[39m\u001b[38;5;124m'\u001b[39m\u001b[38;5;241m+\u001b[39mages[s]\n",
      "\u001b[0;31mNameError\u001b[0m: name 'subs' is not defined"
     ]
    }
   ],
   "source": [
    "dmridir = '/oak/stanford/groups/kalanit/biac2/kgs/projects/babybrains/mri'\n",
    "extractordir = '/oak/stanford/groups/kalanit/biac2/kgs/projects/emily/smooth_tiling/extractor_outputs';\n",
    "figure_dir = '/oak/stanford/groups/kalanit/biac2/kgs/projects/emily/smooth_tiling/figures/streamline_figs/mpm'\n",
    "bundles = ['wholebrain']\n",
    "colors_roi = [[1,.5,.5],[1,0,0],[.68,.85,.9],[0,0,1],[1,1,0],[0,1,0]]\n",
    "colors_bundles = [0.57,0.04,0.4]\n",
    "rois = ['mFus','pFus','mOTS','pOTS','OTS','PPA']\n",
    "hem = 'lh'\n",
    "\n",
    "for s in range(0,len(subs)):\n",
    "    fsid = subs[s]+'_'+ages[s]+'_mask'\n",
    "    sessid = subs[s]+'/'+ages[s]\n",
    "    for i in range(len(rois)):\n",
    "        roi_path = op.join(extractordir,fsid,'func',hem+'_MPM_'+rois[i]+'_wholebrain_MPM_'+hem+'_'+rois[i]+'_adult_20thresh_contour.projected_gmwmi_intersected.nii.gz')\n",
    "        #print(roi_path)\n",
    "        roi_actor=define_roi_actor(roi_path,colors_roi[i],1)\n",
    "        ref_anat = op.join(dmridir,sessid,'dwi','IFOD2_5mil','t1','t2_acpc_conformed.nii.gz')\n",
    "        streamline_actors = [None]*len(bundles)\n",
    "        roi_actors = [None]*len(bundles)\n",
    "        for b in range(len(bundles)):\n",
    "            tck = op.join(extractordir,fsid,'dwi',hem+'_MPM_'+rois[i]+'_'+bundles[b]+'_extracted.tck')\n",
    "            streamline_actors[b] = define_streamline_actor(tck,ref_anat,colors_bundles)\n",
    "\n",
    "        slice_actor = [None]*1\n",
    "        slice_actor[0] = define_slice_actor(ref_anat,view='saggital',offset=-.08)\n",
    "        fname = op.join(figure_dir,hem,rois[i],fsid+'_same_color.png')\n",
    "        visualize_bundles(streamline_actors,0,slice_actor,[roi_actor],camera_angle='saggital',hemi = 'lh',filename=fname)"
   ]
  }
 ],
 "metadata": {
  "kernelspec": {
   "display_name": "Python 3 (ipykernel)",
   "language": "python",
   "name": "python3"
  },
  "language_info": {
   "codemirror_mode": {
    "name": "ipython",
    "version": 3
   },
   "file_extension": ".py",
   "mimetype": "text/x-python",
   "name": "python",
   "nbconvert_exporter": "python",
   "pygments_lexer": "ipython3",
   "version": "3.10.4"
  }
 },
 "nbformat": 4,
 "nbformat_minor": 5
}
